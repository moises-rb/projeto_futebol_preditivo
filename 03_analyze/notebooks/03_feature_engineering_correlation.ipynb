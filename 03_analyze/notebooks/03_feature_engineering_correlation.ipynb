{
 "cells": [
  {
   "cell_type": "markdown",
   "id": "9f057866",
   "metadata": {},
   "source": [
    "# 03_feature_engineering_correlation.ipynb"
   ]
  },
  {
   "cell_type": "markdown",
   "id": "4ccd59b7",
   "metadata": {},
   "source": [
    "# Importando as bibliotecas necessárias"
   ]
  },
  {
   "cell_type": "code",
   "execution_count": 7,
   "id": "97f7a88e",
   "metadata": {},
   "outputs": [
    {
     "name": "stdout",
     "output_type": "stream",
     "text": [
      "Bibliotecas importadas com sucesso!\n"
     ]
    }
   ],
   "source": [
    "import pandas as pd\n",
    "import numpy as np\n",
    "import matplotlib.pyplot as plt\n",
    "import seaborn as sns\n",
    "import os\n",
    "from scipy.stats import ttest_ind # Para testes de hipótese\n",
    "\n",
    "print(\"Bibliotecas importadas com sucesso!\")"
   ]
  },
  {
   "cell_type": "markdown",
   "id": "d6f54c17",
   "metadata": {},
   "source": [
    "# --- 1. Carregamento do Dataset Processado ---\n",
    "### Carrega o dataset 'cleaned_data.csv' salvo na fase MEASURE.\n",
    "### Ajuste o caminho conforme a sua estrutura local ou onde o notebook está sendo executado."
   ]
  },
  {
   "cell_type": "code",
   "execution_count": 12,
   "id": "7d3b0d9d",
   "metadata": {},
   "outputs": [
    {
     "name": "stdout",
     "output_type": "stream",
     "text": [
      "\n",
      "Dataset 'cleaned_data.csv' carregado com sucesso!\n",
      "Primeiras 5 linhas do dataset:\n",
      "         date home_team away_team  home_score  away_score tournament     city  \\\n",
      "0  1872-11-30  Scotland   England           0           0   Friendly  Glasgow   \n",
      "1  1873-03-08   England  Scotland           4           2   Friendly   London   \n",
      "2  1874-03-07  Scotland   England           2           1   Friendly  Glasgow   \n",
      "3  1875-03-06   England  Scotland           2           2   Friendly   London   \n",
      "4  1876-03-04  Scotland   England           3           0   Friendly  Glasgow   \n",
      "\n",
      "    country  neutral    result  \n",
      "0  Scotland    False      Draw  \n",
      "1   England    False  Home Win  \n",
      "2  Scotland    False  Home Win  \n",
      "3   England    False      Draw  \n",
      "4  Scotland    False  Home Win  \n",
      "\n",
      "Informações básicas do dataset:\n",
      "<class 'pandas.core.frame.DataFrame'>\n",
      "RangeIndex: 48335 entries, 0 to 48334\n",
      "Data columns (total 10 columns):\n",
      " #   Column      Non-Null Count  Dtype \n",
      "---  ------      --------------  ----- \n",
      " 0   date        48335 non-null  object\n",
      " 1   home_team   48335 non-null  object\n",
      " 2   away_team   48335 non-null  object\n",
      " 3   home_score  48335 non-null  int64 \n",
      " 4   away_score  48335 non-null  int64 \n",
      " 5   tournament  48335 non-null  object\n",
      " 6   city        48335 non-null  object\n",
      " 7   country     48335 non-null  object\n",
      " 8   neutral     48335 non-null  bool  \n",
      " 9   result      48335 non-null  object\n",
      "dtypes: bool(1), int64(2), object(7)\n",
      "memory usage: 3.4+ MB\n"
     ]
    }
   ],
   "source": [
    "url = 'https://raw.githubusercontent.com/moises-rb/projeto_futebol_preditivo/refs/heads/main/02_measure/data/processed/cleaned_data.csv'\n",
    "try:\n",
    "    df = pd.read_csv(url)\n",
    "    print(f\"\\nDataset 'cleaned_data.csv' carregado com sucesso!\")\n",
    "    print(\"Primeiras 5 linhas do dataset:\")\n",
    "    print(df.head())\n",
    "    print(\"\\nInformações básicas do dataset:\")\n",
    "    df.info()\n",
    "except FileNotFoundError:\n",
    "    print(f\"\\nErro: O arquivo 'cleaned_data.csv' não foi encontrado.\")\n",
    "    print(\"Por favor, certifique-se de que o arquivo está no caminho correto.\")\n",
    "    print(\"Você pode precisar executar o notebook '02_eda_data_cleaning.ipynb' primeiro para gerar este arquivo.\")"
   ]
  },
  {
   "cell_type": "code",
   "execution_count": 13,
   "id": "fc7dc6d5",
   "metadata": {},
   "outputs": [
    {
     "data": {
      "application/vnd.microsoft.datawrangler.viewer.v0+json": {
       "columns": [
        {
         "name": "index",
         "rawType": "int64",
         "type": "integer"
        },
        {
         "name": "date",
         "rawType": "object",
         "type": "string"
        },
        {
         "name": "home_team",
         "rawType": "object",
         "type": "string"
        },
        {
         "name": "away_team",
         "rawType": "object",
         "type": "string"
        },
        {
         "name": "home_score",
         "rawType": "int64",
         "type": "integer"
        },
        {
         "name": "away_score",
         "rawType": "int64",
         "type": "integer"
        },
        {
         "name": "tournament",
         "rawType": "object",
         "type": "string"
        },
        {
         "name": "city",
         "rawType": "object",
         "type": "string"
        },
        {
         "name": "country",
         "rawType": "object",
         "type": "string"
        },
        {
         "name": "neutral",
         "rawType": "bool",
         "type": "boolean"
        },
        {
         "name": "result",
         "rawType": "object",
         "type": "string"
        }
       ],
       "ref": "807aa78c-37f1-4445-8a54-20bfebb1336e",
       "rows": [
        [
         "0",
         "1872-11-30",
         "Scotland",
         "England",
         "0",
         "0",
         "Friendly",
         "Glasgow",
         "Scotland",
         "False",
         "Draw"
        ],
        [
         "1",
         "1873-03-08",
         "England",
         "Scotland",
         "4",
         "2",
         "Friendly",
         "London",
         "England",
         "False",
         "Home Win"
        ],
        [
         "2",
         "1874-03-07",
         "Scotland",
         "England",
         "2",
         "1",
         "Friendly",
         "Glasgow",
         "Scotland",
         "False",
         "Home Win"
        ],
        [
         "3",
         "1875-03-06",
         "England",
         "Scotland",
         "2",
         "2",
         "Friendly",
         "London",
         "England",
         "False",
         "Draw"
        ],
        [
         "4",
         "1876-03-04",
         "Scotland",
         "England",
         "3",
         "0",
         "Friendly",
         "Glasgow",
         "Scotland",
         "False",
         "Home Win"
        ]
       ],
       "shape": {
        "columns": 10,
        "rows": 5
       }
      },
      "text/html": [
       "<div>\n",
       "<style scoped>\n",
       "    .dataframe tbody tr th:only-of-type {\n",
       "        vertical-align: middle;\n",
       "    }\n",
       "\n",
       "    .dataframe tbody tr th {\n",
       "        vertical-align: top;\n",
       "    }\n",
       "\n",
       "    .dataframe thead th {\n",
       "        text-align: right;\n",
       "    }\n",
       "</style>\n",
       "<table border=\"1\" class=\"dataframe\">\n",
       "  <thead>\n",
       "    <tr style=\"text-align: right;\">\n",
       "      <th></th>\n",
       "      <th>date</th>\n",
       "      <th>home_team</th>\n",
       "      <th>away_team</th>\n",
       "      <th>home_score</th>\n",
       "      <th>away_score</th>\n",
       "      <th>tournament</th>\n",
       "      <th>city</th>\n",
       "      <th>country</th>\n",
       "      <th>neutral</th>\n",
       "      <th>result</th>\n",
       "    </tr>\n",
       "  </thead>\n",
       "  <tbody>\n",
       "    <tr>\n",
       "      <th>0</th>\n",
       "      <td>1872-11-30</td>\n",
       "      <td>Scotland</td>\n",
       "      <td>England</td>\n",
       "      <td>0</td>\n",
       "      <td>0</td>\n",
       "      <td>Friendly</td>\n",
       "      <td>Glasgow</td>\n",
       "      <td>Scotland</td>\n",
       "      <td>False</td>\n",
       "      <td>Draw</td>\n",
       "    </tr>\n",
       "    <tr>\n",
       "      <th>1</th>\n",
       "      <td>1873-03-08</td>\n",
       "      <td>England</td>\n",
       "      <td>Scotland</td>\n",
       "      <td>4</td>\n",
       "      <td>2</td>\n",
       "      <td>Friendly</td>\n",
       "      <td>London</td>\n",
       "      <td>England</td>\n",
       "      <td>False</td>\n",
       "      <td>Home Win</td>\n",
       "    </tr>\n",
       "    <tr>\n",
       "      <th>2</th>\n",
       "      <td>1874-03-07</td>\n",
       "      <td>Scotland</td>\n",
       "      <td>England</td>\n",
       "      <td>2</td>\n",
       "      <td>1</td>\n",
       "      <td>Friendly</td>\n",
       "      <td>Glasgow</td>\n",
       "      <td>Scotland</td>\n",
       "      <td>False</td>\n",
       "      <td>Home Win</td>\n",
       "    </tr>\n",
       "    <tr>\n",
       "      <th>3</th>\n",
       "      <td>1875-03-06</td>\n",
       "      <td>England</td>\n",
       "      <td>Scotland</td>\n",
       "      <td>2</td>\n",
       "      <td>2</td>\n",
       "      <td>Friendly</td>\n",
       "      <td>London</td>\n",
       "      <td>England</td>\n",
       "      <td>False</td>\n",
       "      <td>Draw</td>\n",
       "    </tr>\n",
       "    <tr>\n",
       "      <th>4</th>\n",
       "      <td>1876-03-04</td>\n",
       "      <td>Scotland</td>\n",
       "      <td>England</td>\n",
       "      <td>3</td>\n",
       "      <td>0</td>\n",
       "      <td>Friendly</td>\n",
       "      <td>Glasgow</td>\n",
       "      <td>Scotland</td>\n",
       "      <td>False</td>\n",
       "      <td>Home Win</td>\n",
       "    </tr>\n",
       "  </tbody>\n",
       "</table>\n",
       "</div>"
      ],
      "text/plain": [
       "         date home_team away_team  home_score  away_score tournament     city  \\\n",
       "0  1872-11-30  Scotland   England           0           0   Friendly  Glasgow   \n",
       "1  1873-03-08   England  Scotland           4           2   Friendly   London   \n",
       "2  1874-03-07  Scotland   England           2           1   Friendly  Glasgow   \n",
       "3  1875-03-06   England  Scotland           2           2   Friendly   London   \n",
       "4  1876-03-04  Scotland   England           3           0   Friendly  Glasgow   \n",
       "\n",
       "    country  neutral    result  \n",
       "0  Scotland    False      Draw  \n",
       "1   England    False  Home Win  \n",
       "2  Scotland    False  Home Win  \n",
       "3   England    False      Draw  \n",
       "4  Scotland    False  Home Win  "
      ]
     },
     "execution_count": 13,
     "metadata": {},
     "output_type": "execute_result"
    }
   ],
   "source": [
    "df.head()"
   ]
  },
  {
   "cell_type": "markdown",
   "id": "b2eb63ea",
   "metadata": {},
   "source": [
    "# --- 2. Engenharia de Features Avançada ---"
   ]
  },
  {
   "cell_type": "code",
   "execution_count": 31,
   "id": "94db6842",
   "metadata": {},
   "outputs": [],
   "source": [
    "# Convertendo a coluna 'date' para o formato datetime\n",
    "df['date'] = pd.to_datetime(df['date'])\n",
    "\n",
    "# Criando features baseadas na data\n",
    "df['year'] = df['date'].dt.year\n",
    "df['month'] = df['date'].dt.month\n",
    "df['day_of_week'] = df['date'].dt.dayofweek # Segunda-feira=0, Domingo=6"
   ]
  },
  {
   "cell_type": "code",
   "execution_count": 32,
   "id": "040d80db",
   "metadata": {},
   "outputs": [],
   "source": [
    "# Criando feature de vantagem de jogar em casa (já temos 'neutral', mas podemos criar um 'is_home_game')\n",
    "# is_home_game é 1 se o time da casa não está em campo neutro, 0 caso contrário\n",
    "df['is_home_game'] = df.apply(lambda row: 1 if row['neutral'] == False else 0, axis=1)"
   ]
  },
  {
   "cell_type": "code",
   "execution_count": 33,
   "id": "c94c46bb",
   "metadata": {},
   "outputs": [],
   "source": [
    "# Feature: Diferença de gols (já criada na fase anterior, mas garantindo que exista)\n",
    "df['goal_difference'] = df['home_score'] - df['away_score']"
   ]
  },
  {
   "cell_type": "code",
   "execution_count": 34,
   "id": "ab2bec25",
   "metadata": {},
   "outputs": [],
   "source": [
    "# Feature: Total de gols no jogo\n",
    "df['total_goals'] = df['home_score'] + df['away_score']"
   ]
  },
  {
   "cell_type": "markdown",
   "id": "f792b97d",
   "metadata": {},
   "source": [
    "# --- Features de Desempenho Histórico (Forma Recente) ---\n",
    "Esta é uma feature mais complexa e pode exigir um pré-processamento cuidadoso para evitar \"data leakage\" (usar informações futuras para prever o passado).\n",
    "Para simplificar, vamos criar uma versão básica que calcula a média de gols marcados e sofridos por cada equipe em seus jogos anteriores.\n",
    "Isso é um pouco mais avançado e pode ser demorado para datasets grandes.\n",
    "Vamos focar em um exemplo mais simples de forma inicial.\n",
    "\n",
    "Para calcular a forma recente, precisaríamos de um histórico de jogos para cada time ANTES de cada partida.\n",
    "Isso geralmente é feito com loops ou funções mais complexas que ordenam por data.\n",
    "Por enquanto, vamos omitir o cálculo de \"forma recente\" complexa para manter o foco nas correlações básicas e evitar a complexidade de \"data leakage\" neste primeiro passo.\n",
    "Podemos revisitar isso na fase de engenharia de features mais aprofundada ou na modelagem."
   ]
  },
  {
   "cell_type": "markdown",
   "id": "c7d0b5dc",
   "metadata": {},
   "source": [
    "# --- 3. Análise de Correlação ---"
   ]
  },
  {
   "cell_type": "code",
   "execution_count": 19,
   "id": "7fe89b59",
   "metadata": {},
   "outputs": [],
   "source": [
    "# Para a análise de correlação, precisamos converter a variável 'result' em numérica.\n",
    "# Vamos mapear 'Home Win' para 1, 'Draw' para 0, e 'Away Win' para -1.\n",
    "# Isso é uma simplificação para correlação linear, mas nos dá uma ideia inicial.\n",
    "# Para modelos de classificação, usaremos a codificação One-Hot ou Label Encoding.\n",
    "result_mapping = {'Home Win': 1, 'Draw': 0, 'Away Win': -1}\n",
    "df['result_numeric'] = df['result'].map(result_mapping)"
   ]
  },
  {
   "cell_type": "code",
   "execution_count": 20,
   "id": "d7604d6c",
   "metadata": {},
   "outputs": [
    {
     "data": {
      "image/png": "[encoded data removed]",
      "text/plain": [
       "<Figure size 1200x1000 with 2 Axes>"
      ]
     },
     "metadata": {},
     "output_type": "display_data"
    },
    {
     "name": "stdout",
     "output_type": "stream",
     "text": [
      "\n",
      "Correlação das features com o resultado numérico (result_numeric):\n",
      "result_numeric     1.000000\n",
      "goal_difference    0.774409\n",
      "home_score         0.576477\n",
      "total_goals        0.084145\n",
      "is_home_game       0.069460\n",
      "day_of_week        0.013200\n",
      "month              0.010361\n",
      "year              -0.008228\n",
      "away_score        -0.604207\n",
      "Name: result_numeric, dtype: float64\n"
     ]
    }
   ],
   "source": [
    "# Selecionando features numéricas para a matriz de correlação\n",
    "numerical_features = ['home_score', 'away_score', 'goal_difference', 'total_goals', 'year', 'month', 'day_of_week', 'is_home_game', 'result_numeric']\n",
    "correlation_matrix = df[numerical_features].corr()\n",
    "\n",
    "plt.figure(figsize=(12, 10))\n",
    "sns.heatmap(correlation_matrix, annot=True, cmap='coolwarm', fmt=\".2f\", linewidths=.5)\n",
    "plt.title('Matriz de Correlação das Features Numéricas')\n",
    "plt.show()\n",
    "\n",
    "print(\"\\nCorrelação das features com o resultado numérico (result_numeric):\")\n",
    "print(correlation_matrix['result_numeric'].sort_values(ascending=False))"
   ]
  },
  {
   "cell_type": "markdown",
   "id": "d2ee1a99",
   "metadata": {},
   "source": [
    "# --- 4. Testes de Hipótese (Exemplo: Mando de Campo) ---"
   ]
  },
  {
   "cell_type": "code",
   "execution_count": 21,
   "id": "fc0f7f28",
   "metadata": {},
   "outputs": [],
   "source": [
    "# Vamos testar se há uma diferença significativa na média de gols marcados\n",
    "# quando o time joga em casa (is_home_game = 1) versus quando não joga (is_home_game = 0).\n",
    "\n",
    "# Gols marcados pelo time da casa em jogos não neutros\n",
    "home_goals_non_neutral = df[(df['is_home_game'] == 1)]['home_score']\n",
    "# Gols marcados pelo time visitante em jogos não neutros (aqui, o 'away_score' é o gol do time visitante)\n",
    "away_goals_non_neutral = df[(df['is_home_game'] == 0)]['away_score']"
   ]
  },
  {
   "cell_type": "code",
   "execution_count": 22,
   "id": "328c8dd1",
   "metadata": {},
   "outputs": [],
   "source": [
    "# Para uma comparação mais direta sobre \"vantagem de jogar em casa\",\n",
    "# podemos comparar a média de gols do time da casa (home_score) em jogos em casa,\n",
    "# com a média de gols do time visitante (away_score) em jogos fora.\n",
    "# Ou, de forma mais robusta, comparar a média de gols do time da casa com a média de gols do time visitante em geral.\n",
    "\n",
    "# Vamos comparar a média de gols marcados pelo time da casa vs. time visitante em TODOS os jogos.\n",
    "# Isso nos dá uma ideia geral se jogar em casa tende a resultar em mais gols.\n",
    "t_stat_goals, p_value_goals = ttest_ind(df['home_score'], df['away_score'])"
   ]
  },
  {
   "cell_type": "code",
   "execution_count": 23,
   "id": "b42df73f",
   "metadata": {},
   "outputs": [
    {
     "name": "stdout",
     "output_type": "stream",
     "text": [
      "\n",
      "Média de Gols do Time da Casa: 1.76\n",
      "Média de Gols do Time Visitante: 1.18\n",
      "Estatística T (comparação de gols): 56.17\n",
      "Valor P (comparação de gols): 0.000\n",
      "Há uma diferença estatisticamente significativa na média de gols entre times da casa e visitantes.\n"
     ]
    }
   ],
   "source": [
    "print(f\"\\nMédia de Gols do Time da Casa: {df['home_score'].mean():.2f}\")\n",
    "print(f\"Média de Gols do Time Visitante: {df['away_score'].mean():.2f}\")\n",
    "print(f\"Estatística T (comparação de gols): {t_stat_goals:.2f}\")\n",
    "print(f\"Valor P (comparação de gols): {p_value_goals:.3f}\")\n",
    "\n",
    "if p_value_goals < 0.05:\n",
    "    print(\"Há uma diferença estatisticamente significativa na média de gols entre times da casa e visitantes.\")\n",
    "else:\n",
    "    print(\"Não há uma diferença estatisticamente significativa na média de gols entre times da casa e visitantes.\")"
   ]
  },
  {
   "cell_type": "code",
   "execution_count": 25,
   "id": "d87275ab",
   "metadata": {},
   "outputs": [
    {
     "name": "stdout",
     "output_type": "stream",
     "text": [
      "\n",
      "Proporção de Vitórias em Casa, Fora e Empates:\n",
      "Proporção de Vitórias do Time da Casa: 49.04%\n",
      "Proporção de Vitórias do Time Visitante: 28.22%\n",
      "Proporção de Empates: 22.74%\n"
     ]
    }
   ],
   "source": [
    "# Teste de hipótese para a proporção de vitórias em casa vs. fora\n",
    "# Podemos analisar a proporção de 'Home Win' quando 'is_home_game' é 1 vs. 0 (o que é trivial, já que 'Home Win' é por definição quando o time da casa ganha).\n",
    "# Um teste mais interessante seria comparar a taxa de vitórias do time da casa em jogos não neutros\n",
    "# versus a taxa de vitórias do time visitante em jogos não neutros.\n",
    "\n",
    "# Para simplificar, vamos ver as proporções de vitórias em casa/fora/empate\n",
    "print(\"\\nProporção de Vitórias em Casa, Fora e Empates:\")\n",
    "home_wins_ratio = df[df['result'] == 'Home Win'].shape[0] / df.shape[0]\n",
    "away_wins_ratio = df[df['result'] == 'Away Win'].shape[0] / df.shape[0]\n",
    "draw_ratio = df[df['result'] == 'Draw'].shape[0] / df.shape[0]\n",
    "\n",
    "print(f\"Proporção de Vitórias do Time da Casa: {home_wins_ratio:.2%}\")\n",
    "print(f\"Proporção de Vitórias do Time Visitante: {away_wins_ratio:.2%}\")\n",
    "print(f\"Proporção de Empates: {draw_ratio:.2%}\")"
   ]
  },
  {
   "cell_type": "code",
   "execution_count": 26,
   "id": "7be28abb",
   "metadata": {},
   "outputs": [
    {
     "name": "stdout",
     "output_type": "stream",
     "text": [
      "Diretório '../data/processed/' criado com sucesso.\n",
      "\n",
      "Dataset com features avançadas salvo em: ../data/processed/analyzed_data.csv\n",
      "\n",
      "Fase ANALYZE (Engenharia de Features e Correlação) concluída neste notebook.\n",
      "Pronto para aprofundar na Melhoria (Fase IMPROVE)!\n"
     ]
    }
   ],
   "source": [
    "# --- Salvar o dataset com as novas features para a próxima fase ---\n",
    "output_dir = '../data/processed/'\n",
    "if not os.path.exists(output_dir):\n",
    "    os.makedirs(output_dir)\n",
    "    print(f\"Diretório '{output_dir}' criado com sucesso.\")\n",
    "\n",
    "output_path_analyzed = os.path.join(output_dir, 'analyzed_data.csv')\n",
    "df.to_csv(output_path_analyzed, index=False)\n",
    "print(f\"\\nDataset com features avançadas salvo em: {output_path_analyzed}\")\n",
    "\n",
    "print(\"\\nFase ANALYZE (Engenharia de Features e Correlação) concluída neste notebook.\")\n",
    "print(\"Pronto para aprofundar na Melhoria (Fase IMPROVE)!\")"
   ]
  }
 ],
 "metadata": {
  "kernelspec": {
   "display_name": "Python 3",
   "language": "python",
   "name": "python3"
  },
  "language_info": {
   "codemirror_mode": {
    "name": "ipython",
    "version": 3
   },
   "file_extension": ".py",
   "mimetype": "text/x-python",
   "name": "python",
   "nbconvert_exporter": "python",
   "pygments_lexer": "ipython3",
   "version": "3.13.2"
  }
 },
 "nbformat": 4,
 "nbformat_minor": 5
}
