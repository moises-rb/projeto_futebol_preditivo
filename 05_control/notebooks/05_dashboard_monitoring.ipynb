{
  "nbformat": 4,
  "nbformat_minor": 0,
  "metadata": {
    "colab": {
      "provenance": [],
      "authorship_tag": "ABX9TyNL+zSVcV1cCEf5WQF62uUr",
      "include_colab_link": true
    },
    "kernelspec": {
      "name": "python3",
      "display_name": "Python 3"
    },
    "language_info": {
      "name": "python"
    }
  },
  "cells": [
    {
      "cell_type": "markdown",
      "metadata": {
        "id": "view-in-github",
        "colab_type": "text"
      },
      "source": [
        "<a href=\"https://colab.research.google.com/github/moises-rb/projeto_futebol_preditivo/blob/main/05_control/notebooks/05_dashboard_monitoring.ipynb\" target=\"_parent\"><img src=\"https://colab.research.google.com/assets/colab-badge.svg\" alt=\"Open In Colab\"/></a>"
      ]
    },
    {
      "cell_type": "markdown",
      "source": [
        "# 05_dashboard_monitoring.ipynb"
      ],
      "metadata": {
        "id": "1YBXTl9zRCiI"
      }
    },
    {
      "cell_type": "markdown",
      "source": [
        "# Importando as bibliotecas necessárias"
      ],
      "metadata": {
        "id": "2UofGcNVRH_t"
      }
    },
    {
      "cell_type": "code",
      "execution_count": 1,
      "metadata": {
        "colab": {
          "base_uri": "https://localhost:8080/"
        },
        "id": "RymncevLQa8P",
        "outputId": "2d4084a2-cbe2-4d76-a753-ccbfd8930f4e"
      },
      "outputs": [
        {
          "output_type": "stream",
          "name": "stdout",
          "text": [
            "Bibliotecas importadas com sucesso!\n"
          ]
        }
      ],
      "source": [
        "import pandas as pd\n",
        "import numpy as np\n",
        "import matplotlib.pyplot as plt\n",
        "import seaborn as sns\n",
        "import os # Importar a biblioteca os para manipulação de diretórios\n",
        "import joblib # Para carregar modelos\n",
        "from sklearn.metrics import accuracy_score, classification_report, confusion_matrix\n",
        "\n",
        "print(\"Bibliotecas importadas com sucesso!\")"
      ]
    },
    {
      "cell_type": "markdown",
      "source": [
        "# --- 1. Carregamento do Melhor Modelo Salvo ---"
      ],
      "metadata": {
        "id": "D5MxrbN2RNjc"
      }
    },
    {
      "cell_type": "code",
      "source": [
        "# Definindo o diretório onde os modelos são salvos\n",
        "model_dir = '../models/'\n",
        "\n",
        "# Tentando carregar o modelo de Regressão Logística como padrão, pois foi o que geralmente ganhou\n",
        "model_filename = os.path.join(model_dir, 'logistic_regression_model.joblib')\n",
        "\n",
        "# Se o modelo de Regressão Logística não existir, tentamos carregar o Random Forest\n",
        "if not os.path.exists(model_filename):\n",
        "    model_filename = os.path.join(model_dir, 'random_forest_model.joblib')\n",
        "\n",
        "try:\n",
        "    best_model = joblib.load(model_filename)\n",
        "    print(f\"\\nModelo '{os.path.basename(model_filename)}' carregado com sucesso!\")\n",
        "    # Determinar o nome do modelo carregado para uso posterior nos insights\n",
        "    if 'logistic_regression_model' in model_filename:\n",
        "        best_model_name = 'Logistic Regression'\n",
        "    elif 'random_forest_model' in model_filename:\n",
        "        best_model_name = 'Random Forest'\n",
        "    else:\n",
        "        best_model_name = 'Unknown Model' # Fallback\n",
        "    print(f\"Modelo identificado como: {best_model_name}\")\n",
        "\n",
        "except FileNotFoundError:\n",
        "    print(f\"\\nErro: Nenhum modelo foi encontrado em '{model_dir}'.\")\n",
        "    print(\"Por favor, verifique o caminho e o nome do arquivo do modelo.\")\n",
        "    print(\"Você precisa executar o notebook '04_model_training_evaluation.ipynb' primeiro para salvar o modelo.\")\n",
        "    # Sair ou lidar com a falta do modelo, por exemplo, criando um modelo dummy\n",
        "    best_model = None # Define best_model como None para evitar erros futuros"
      ],
      "metadata": {
        "colab": {
          "base_uri": "https://localhost:8080/"
        },
        "id": "1qA1JaRCRM5Z",
        "outputId": "e4dd1dd5-9e04-4534-96d5-d668ebca330c"
      },
      "execution_count": 2,
      "outputs": [
        {
          "output_type": "stream",
          "name": "stdout",
          "text": [
            "\n",
            "Erro: Nenhum modelo foi encontrado em '../models/'.\n",
            "Por favor, verifique o caminho e o nome do arquivo do modelo.\n",
            "Você precisa executar o notebook '04_model_training_evaluation.ipynb' primeiro para salvar o modelo.\n"
          ]
        }
      ]
    }
  ]
}